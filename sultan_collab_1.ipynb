{
  "cells": [
    {
      "cell_type": "markdown",
      "metadata": {
        "id": "view-in-github",
        "colab_type": "text"
      },
      "source": [
        "<a href=\"https://colab.research.google.com/github/visiongen/BicycleGAN/blob/master/sultan_collab_1.ipynb\" target=\"_parent\"><img src=\"https://colab.research.google.com/assets/colab-badge.svg\" alt=\"Open In Colab\"/></a>"
      ]
    },
    {
      "cell_type": "code",
      "execution_count": null,
      "metadata": {
        "colab": {
          "base_uri": "https://localhost:8080/"
        },
        "id": "VwW0_o0gISb9",
        "outputId": "4cdcb77a-b9a3-4c28-8dd0-5dcea218e67d"
      },
      "outputs": [
        {
          "output_type": "stream",
          "name": "stdout",
          "text": [
            "Mounted at /content/drive\n"
          ]
        }
      ],
      "source": [
        "from google.colab import drive\n",
        "drive.mount('/content/drive', force_remount=True)"
      ]
    },
    {
      "cell_type": "code",
      "source": [
        "import cv2\n",
        "import numpy as np"
      ],
      "metadata": {
        "id": "OfxzGaM_EWLy"
      },
      "execution_count": null,
      "outputs": []
    },
    {
      "cell_type": "code",
      "execution_count": null,
      "metadata": {
        "id": "tJInZCFkITRv"
      },
      "outputs": [],
      "source": [
        "import os"
      ]
    },
    {
      "cell_type": "code",
      "execution_count": null,
      "metadata": {
        "id": "_EwrQNTPIxOn"
      },
      "outputs": [],
      "source": [
        "path_bawahan = '/content/drive/MyDrive/Final Project/data/bawahan'"
      ]
    },
    {
      "cell_type": "code",
      "execution_count": null,
      "metadata": {
        "colab": {
          "base_uri": "https://localhost:8080/"
        },
        "id": "BDeCHZvVJBVZ",
        "outputId": "b6f0c299-a25a-46db-8c81-d1fb3ae56d53"
      },
      "outputs": [
        {
          "output_type": "stream",
          "name": "stdout",
          "text": [
            "790\n"
          ]
        }
      ],
      "source": [
        "print(len(os.listdir(path_bawahan)))"
      ]
    },
    {
      "cell_type": "code",
      "execution_count": null,
      "metadata": {
        "id": "OJo6dUdYJD8k"
      },
      "outputs": [],
      "source": [
        "path_result_bawahan = '/content/drive/MyDrive/Final Project/data/result bawahan'"
      ]
    },
    {
      "cell_type": "code",
      "source": [
        "print(len(os.listdir(path_result_bawahan)))"
      ],
      "metadata": {
        "colab": {
          "base_uri": "https://localhost:8080/"
        },
        "id": "WWq_LoM0EEsG",
        "outputId": "c9f93d71-d578-46f3-e28e-b7d010097c24"
      },
      "execution_count": null,
      "outputs": [
        {
          "output_type": "stream",
          "name": "stdout",
          "text": [
            "790\n"
          ]
        }
      ]
    },
    {
      "cell_type": "code",
      "source": [
        "path_result_bawahan_AB = '/content/drive/MyDrive/Final Project/data/result bawahan AB'"
      ],
      "metadata": {
        "id": "JgA3HhE7E5gP"
      },
      "execution_count": null,
      "outputs": []
    },
    {
      "cell_type": "code",
      "source": [
        "for image in os.listdir(path_bawahan):\n",
        "  img_path_bawahan = path_bawahan + '/' + image\n",
        "  img_path_result_bawahan = path_result_bawahan + '/' + image\n",
        "  im_A = cv2.imread(img_path_bawahan, 1) # python2: cv2.CV_LOAD_IMAGE_COLOR; python3: cv2.IMREAD_COLOR\n",
        "  im_B = cv2.imread(img_path_result_bawahan, 1) # python2: cv2.CV_LOAD_IMAGE_COLOR; python3: cv2.IMREAD_COLOR\n",
        "  im_AB = np.concatenate([im_A, im_B], 1)\n",
        "  img_path_result_bawahan_AB = path_result_bawahan_AB + '/' + image\n",
        "  try:\n",
        "    cv2.imwrite(img_path_result_bawahan_AB, im_AB)\n",
        "  except OSError:\n",
        "    print(image + ' Error!')"
      ],
      "metadata": {
        "id": "suO8TkdJEGiZ"
      },
      "execution_count": null,
      "outputs": []
    },
    {
      "cell_type": "code",
      "source": [],
      "metadata": {
        "id": "PDA8Cb6AFHd7"
      },
      "execution_count": null,
      "outputs": []
    }
  ],
  "metadata": {
    "colab": {
      "provenance": [],
      "include_colab_link": true
    },
    "kernelspec": {
      "display_name": "Python 3",
      "name": "python3"
    },
    "language_info": {
      "name": "python"
    }
  },
  "nbformat": 4,
  "nbformat_minor": 0
}